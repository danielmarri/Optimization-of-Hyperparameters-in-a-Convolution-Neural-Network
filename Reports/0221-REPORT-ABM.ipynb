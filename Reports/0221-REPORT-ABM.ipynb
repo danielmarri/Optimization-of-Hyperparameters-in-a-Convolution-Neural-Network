{
 "cells": [
  {
   "cell_type": "markdown",
   "metadata": {},
   "source": [
    "# <center>Using Agent Based Models in Neural Networks</center>\n",
    "\n",
    "<center>by Cecilie Dura André</center>"
   ]
  },
  {
   "cell_type": "markdown",
   "metadata": {},
   "source": [
    "Agent-based models (ABMs) are computational models that simulate the actions of an autonomous decision-making system, which is called agents, to see phenomena. These agents work separately and each makes there own decisions based on a set of rules. The systems can be a way to observe behavior and how it can change with interaction between individuals, how people react under evacuation, simulate traffic, stock market, operational risk, e.g. This is the reason why some may use ABMs is to see new phenomena, they often represent the system naturally, and they are often flexible (Bonabeau 2002).\n",
    "\n",
    "Neural Networks (NN) are structured with perceptrons. Perceptrons have an output, which can be described as $f(y=wx+b)$. Here, $x$ is the input, which is multiplied with a weight, $w$, and a bias, $b$, is added at the end (Flawnson 2019).\n",
    "\n",
    "When the perceptrons are structured together a NN is created. Each of the perceptrons passed information to the next perceptrons in each layer. In the end, the network predicts a label, which it is trained against by minimizing an error. The error is the predicted outcome compared to the expected outcome and the error is minimized by adjusting the weights, which is done by a process called backpropagation (Flawnson 2019).\n",
    "\n",
    "Some would say that the NNs are trained to predict the actions of an agent in a model. Therefore, the NNs could be seen as a doppelganger of the ABMs. Thus, depending on the problem a person could either use an ABM or an NN for getting the results. They can both be used in economics problems and NNs have been used to win computer games. Thus, they could also work to simulate evacuations, simulate traffics, stock markets, operational risks, e.g. (van der Hoog 2017). \n",
    "\n",
    "The difference between the two modeling techniques is the way they are \"set up\". The agent-based system is modeled by a set of rules, thus a person can see different phenomes depending on the ruleset (Bonabeau 2002). Thus, a person can learn different outcomes based on a series of events, whereas if the person was using an NN the person would only see the outcome and not see why or how the outcome was generated. If the modeling problem could be based as either, the modeling choice should be based on what the person wants to get out of the problem."
   ]
  },
  {
   "cell_type": "markdown",
   "metadata": {},
   "source": [
    "---\n",
    "# References\n",
    "Bonabeau, E. 2002. “Agent-Based Modeling: Methods and Techniques for Simulating Human Systems.” Proceedings of the National Academy of Sciences 99 (Supplement 3): 7280–87. doi:10.1073/pnas.082080899.\n",
    "\n",
    "Flawnson, Tong. 2019. “Everything You Need to Know about Graph Theory for Deep Learning.” Toward Data Science. April 23. https://towardsdatascience.com/graph-theory-and-deep-learning-know-hows-6556b0e9891b.\n",
    "\n",
    "Van der Hoog, Sander. 2017. “Deep Learning in (and Of) Agent-Based Models: A Prospectus.” arXiv:1706.06302 [q-Fin], June. http://arxiv.org/abs/1706.06302."
   ]
  },
  {
   "cell_type": "code",
   "execution_count": null,
   "metadata": {},
   "outputs": [],
   "source": []
  }
 ],
 "metadata": {
  "anaconda-cloud": {},
  "cite2c": {
   "citations": {
    "7514239/6WTUYS5P": {
     "DOI": "10.1073/pnas.082080899",
     "URL": "http://www.pnas.org/cgi/doi/10.1073/pnas.082080899",
     "accessed": {
      "day": 21,
      "month": 2,
      "year": 2020
     },
     "author": [
      {
       "family": "Bonabeau",
       "given": "E."
      }
     ],
     "container-title": "Proceedings of the National Academy of Sciences",
     "container-title-short": "Proceedings of the National Academy of Sciences",
     "id": "7514239/6WTUYS5P",
     "issue": "Supplement 3",
     "issued": {
      "day": 14,
      "month": 5,
      "year": 2002
     },
     "journalAbbreviation": "Proceedings of the National Academy of Sciences",
     "language": "en",
     "page": "7280-7287",
     "page-first": "7280",
     "shortTitle": "Agent-based modeling",
     "title": "Agent-based modeling: Methods and techniques for simulating human systems",
     "title-short": "Agent-based modeling",
     "type": "article-journal",
     "volume": "99"
    },
    "7514239/9CSH3CZM": {
     "URL": "https://towardsdatascience.com/graph-theory-and-deep-learning-know-hows-6556b0e9891b",
     "author": [
      {
       "family": "Flawnson",
       "given": "Tong"
      }
     ],
     "genre": "Toward Data Science",
     "id": "7514239/9CSH3CZM",
     "issued": {
      "day": 23,
      "month": 4,
      "year": 2019
     },
     "title": "Everything you need to know about Graph Theory for Deep Learning",
     "type": "webpage"
    },
    "7514239/D2GWARSM": {
     "URL": "http://arxiv.org/abs/1706.06302",
     "abstract": "A very timely issue for economic agent-based models (ABMs) is their empirical estimation. This paper describes a line of research that could resolve the issue by using machine learning techniques, using multi-layer artiﬁcial neural networks (ANNs), or so called Deep Nets. The seminal contribution by Hinton et al. (2006) introduced a fast and eﬃcient training algorithm called Deep Learning, and there have been major breakthroughs in machine learning ever since. Economics has not yet beneﬁted from these developments, and therefore we believe that now is the right time to apply Deep Learning and multi-layered neural networks to agent-based models in economics.",
     "accessed": {
      "day": 22,
      "month": 2,
      "year": 2020
     },
     "author": [
      {
       "family": "van der Hoog",
       "given": "Sander"
      }
     ],
     "container-title": "arXiv:1706.06302 [q-fin]",
     "id": "7514239/D2GWARSM",
     "issued": {
      "day": 20,
      "month": 6,
      "year": 2017
     },
     "language": "en",
     "note": "arXiv: 1706.06302",
     "shortTitle": "Deep Learning in (and of) Agent-Based Models",
     "title": "Deep Learning in (and of) Agent-Based Models: A Prospectus",
     "title-short": "Deep Learning in (and of) Agent-Based Models",
     "type": "article-journal"
    },
    "undefined": {
     "URL": "https://towardsdatascience.com/graph-theory-and-deep-learning-know-hows-6556b0e9891b",
     "author": [
      {
       "family": "Flawnson",
       "given": "Tong"
      }
     ],
     "genre": "Toward Data Science",
     "id": "7514239/9CSH3CZM",
     "issued": {
      "day": 23,
      "month": 4,
      "year": 2019
     },
     "title": "Everything you need to know about Graph Theory for Deep Learning",
     "type": "webpage"
    }
   }
  },
  "kernelspec": {
   "display_name": "Python 3",
   "language": "python",
   "name": "python3"
  },
  "language_info": {
   "codemirror_mode": {
    "name": "ipython",
    "version": 3
   },
   "file_extension": ".py",
   "mimetype": "text/x-python",
   "name": "python",
   "nbconvert_exporter": "python",
   "pygments_lexer": "ipython3",
   "version": "3.7.3"
  }
 },
 "nbformat": 4,
 "nbformat_minor": 1
}
