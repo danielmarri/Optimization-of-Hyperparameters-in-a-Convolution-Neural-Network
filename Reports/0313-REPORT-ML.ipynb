{
 "cells": [
  {
   "cell_type": "markdown",
   "metadata": {},
   "source": [
    "# <center>Using Machine Learning (ML) in Deep Learning Hyperparameter Optimization</center>\n",
    "\n",
    "<center>by Cecilie Dura André</center>"
   ]
  },
  {
   "cell_type": "markdown",
   "metadata": {},
   "source": [
    "---\n",
    "Machine Learning (ML) can either be catogorized at supervised learning, unsupervised learning or reinforcement learning models. Supervised models take a dataset with featers and the responding labels. Then the ML algorithm train the predicted on the training set against the labels, to make a model that might be used on equal data to classify (classify problems) or predict a number (regression models). In unsupervised learning the dataset does not have labels. Thus, the algorithm is self-organized to find unkown patterns, that might not be discoorvered if the labels where given to begin with. Reinforcement learning is neither supervised learning or unsupervised learning. Reinforcement learning is an algorithm that learn to react to an environment on their own (“Supervised Learning vs Unsupervised Learning vs Reinforcement Learning”).\n",
    "\n",
    "Deep Learning (DL) is a subgroup of ML algorithms that differ in which kind of data they have to use. ML algroithms often need a variaty of featers, that are thought to be desribtive enough to make a good discition algorithm. DL algroithms only need the raw data to make a classification or regression algrotihm, since it finds the features needed by itself. Thus, DL algorithms remove the subjective step of choosing features (Hargrave 2019).\n",
    "\n",
    "A type of DL or ML model that are used in this project are Nural Networks. As described in the other reports, neural networks are structured with perceptrons. Each of the perceptrons passed information to the next perceptrons in each layer. In the end, the network predicts a label, which it is trained against by minimizing an error. The error is the predicted outcome compared to the expected outcome and the error is minimized by adjusting the weights, which is done by a process called backpropagation (Flawnson 2019).\n",
    "\n",
    "DL has been emerging in the medical field as a second opinion to make medical classification and in some cases they even outperform doctors and other algorithms such as automatic basal cell carcinoma cancer detection (A.A. Cruz-Roa et al 2013) and early diagnosing Alzheimer's disease (L. McCrackin. 2018). \n",
    "\n",
    "Thus, in my project, which is a preproject, we focus on finding a way to optimize training of deep learning models to find models faster and better, which can be used in clining use. Thus, I am actually using ML models in my work already. "
   ]
  },
  {
   "cell_type": "markdown",
   "metadata": {},
   "source": [
    "---\n",
    "# References\n",
    "\n",
    "“Supervised Learning vs Unsupervised Learning vs Reinforcement Learning.” https://intellipaat.com/blog/supervised-learning-vs-unsupervised-learning-vs-reinforcement-learning/.\n",
    "\n",
    "Hargrave, Marschall. 2019. “Deep Learning.” April 30. https://www.investopedia.com/terms/d/deep-learning.asp.\n",
    "\n",
    "Flawnson, Tong. 2019. “Everything You Need to Know about Graph Theory for Deep Learning.” Toward Data Science. April 23. https://towardsdatascience.com/graph-theory-and-deep-learning-know-hows-6556b0e9891b.\n",
    "\n",
    "A.A. Cruz-Roa et al. “A deep learning architecture for image representation,visual interpretability and automated basal-cell carcinoma cancer detection”.In: volume 8150. 2. 2013, pages 403–410.isbn: 9783642407628.\n",
    "\n",
    "L. McCrackin. “Early detection of Alzheimer’s disease using deep learning”. In:volume 10832. Springer Verlag, 2018, pages 355–359.isbn: 9783319896557."
   ]
  },
  {
   "cell_type": "code",
   "execution_count": null,
   "metadata": {},
   "outputs": [],
   "source": []
  }
 ],
 "metadata": {
  "anaconda-cloud": {},
  "cite2c": {
   "citations": {
    "7514239/AXKUTELL": {
     "URL": "https://www.investopedia.com/terms/d/deep-learning.asp",
     "author": [
      {
       "family": "Hargrave",
       "given": "Marschall"
      }
     ],
     "id": "7514239/AXKUTELL",
     "issued": {
      "day": 30,
      "month": 4,
      "year": 2019
     },
     "title": "Deep Learning",
     "type": "webpage"
    },
    "7514239/KJH95ITA": {
     "URL": "https://intellipaat.com/blog/supervised-learning-vs-unsupervised-learning-vs-reinforcement-learning/",
     "id": "7514239/KJH95ITA",
     "title": "Supervised Learning vs Unsupervised Learning vs Reinforcement Learning",
     "type": "webpage"
    }
   }
  },
  "kernelspec": {
   "display_name": "Python 3",
   "language": "python",
   "name": "python3"
  },
  "language_info": {
   "codemirror_mode": {
    "name": "ipython",
    "version": 3
   },
   "file_extension": ".py",
   "mimetype": "text/x-python",
   "name": "python",
   "nbconvert_exporter": "python",
   "pygments_lexer": "ipython3",
   "version": "3.7.3"
  }
 },
 "nbformat": 4,
 "nbformat_minor": 1
}
