{
 "cells": [
  {
   "cell_type": "markdown",
   "metadata": {},
   "source": [
    "# <center>Bayesian Optimization</center>\n",
    "\n",
    "<center>by Cecilie Dura André</center>\n",
    "<center>andrecec@msu.edu</center>"
   ]
  },
  {
   "cell_type": "markdown",
   "metadata": {},
   "source": [
    "\n",
    "Bayesian Optimization (BO) is a methods to maximize the evaluating of \"black box\" functions, this could be Machine Learning or Deep Learning algorithms, without having acces to these algorithms. Thus, BO takes the algorithm and test it at a sequence of test points to determine the optimal values for e.g. hyperparamters. \n",
    "\n",
    "This is done by approximations, since we cannot solve the problem analyticly. The approximation is a surregate model (a probabilistic model) based om the results with the associated hyperparameter. Here, a Gaussian model is fitted to the outcome. This will give us a mean and vairance. An acquisition function is then  used to look at different trade-offs of picking known maximas and explore uncertain locations  in the hyperparamter space. These steps are iterated, thus we should get a better and better approximation until the maximum number of ietrations is met. The best results can then be found with the respictive hyperparameter(s). \n",
    "\n",
    "\n",
    "\n"
   ]
  },
  {
   "cell_type": "markdown",
   "metadata": {},
   "source": [
    "---\n",
    "# References\n",
    "\n",
    "Citing: https://mlconf.com/blog/lets-talk-bayesian-optimization/\n"
   ]
  },
  {
   "cell_type": "code",
   "execution_count": null,
   "metadata": {},
   "outputs": [],
   "source": []
  }
 ],
 "metadata": {
  "anaconda-cloud": {},
  "cite2c": {
   "citations": {
    "7514239/4AFCQBNZ": {
     "ISBN": "978-1-4471-4533-2 978-1-4471-4534-9",
     "URL": "http://link.springer.com/10.1007/978-1-4471-4534-9",
     "accessed": {
      "day": 6,
      "month": 2,
      "year": 2020
     },
     "author": [
      {
       "family": "O’Regan",
       "given": "Gerard"
      }
     ],
     "event-place": "London",
     "id": "7514239/4AFCQBNZ",
     "issued": {
      "year": 2013
     },
     "language": "en",
     "note": "DOI: 10.1007/978-1-4471-4534-9",
     "publisher": "Springer London",
     "publisher-place": "London",
     "title": "Mathematics in Computing",
     "type": "book"
    },
    "7514239/9CSH3CZM": {
     "URL": "https://towardsdatascience.com/graph-theory-and-deep-learning-know-hows-6556b0e9891b",
     "author": [
      {
       "family": "Flawnson",
       "given": "Tong"
      }
     ],
     "genre": "Toward Data Science",
     "id": "7514239/9CSH3CZM",
     "issued": {
      "day": 23,
      "month": 4,
      "year": 2019
     },
     "title": "Everything you need to know about Graph Theory for Deep Learning",
     "type": "webpage"
    }
   }
  },
  "kernelspec": {
   "display_name": "Python 3",
   "language": "python",
   "name": "python3"
  },
  "language_info": {
   "codemirror_mode": {
    "name": "ipython",
    "version": 3
   },
   "file_extension": ".py",
   "mimetype": "text/x-python",
   "name": "python",
   "nbconvert_exporter": "python",
   "pygments_lexer": "ipython3",
   "version": "3.7.3"
  }
 },
 "nbformat": 4,
 "nbformat_minor": 1
}
