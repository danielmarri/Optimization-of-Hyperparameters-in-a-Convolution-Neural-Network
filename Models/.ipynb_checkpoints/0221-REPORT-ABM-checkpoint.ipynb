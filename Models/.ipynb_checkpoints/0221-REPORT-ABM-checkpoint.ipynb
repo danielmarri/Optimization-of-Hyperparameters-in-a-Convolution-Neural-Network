{
 "cells": [
  {
   "cell_type": "markdown",
   "metadata": {},
   "source": [
    "# <center>Using Agent Based Models in Neural Networks</center>\n",
    "\n",
    "<center>by Cecilie Dura André</center>"
   ]
  },
  {
   "cell_type": "markdown",
   "metadata": {},
   "source": [
    "Agent-based models (ABMs) is computational models that simulate the actions of autonomous decision-making system, which is called agents, to see phenomenas. These agents works seperatly and each makes there own descicion based on a set of rules. The systems can be a way to observe behavior and how it can change with interaction between individuals, how people react under evacuation, simulate traffic, stock market, operational risk, e.g. This is the reason why some may use ABMs is to see new phenomena, they are often represent the system natural, and they are often flexible (Bonabeau 2002).\n",
    "\n",
    "Neural Networks (NN) are structured with perceptrons. Perceptrons have an output, which can be described as $f(y=wx+b)$. Here, $x$ is the input, which is multiplied with a weight, $w$, and a bias, $b$, is added in the end (Flawnson 2019).\n",
    "\n",
    "When the perceptrons are structured together a NN is created. Each of the perceptrons passed information to the next perceptrons in each layer. In the end, the network predicts a label, which it is trained against by minimizing an error. The error is the predicted outcome compared to the expected outcome and the error is minimized by adjusting the weights, which is done by a process called backpropagation (Flawnson 2019).\n"
   ]
  },
  {
   "cell_type": "markdown",
   "metadata": {},
   "source": [
    "---\n",
    "# References\n",
    "Bonabeau, E. 2002. “Agent-Based Modeling: Methods and Techniques for Simulating Human Systems.” Proceedings of the National Academy of Sciences 99 (Supplement 3): 7280–87. doi:10.1073/pnas.082080899.\n",
    "\n",
    "Flawnson, Tong. 2019. “Everything You Need to Know about Graph Theory for Deep Learning.” Toward Data Science. April 23. https://towardsdatascience.com/graph-theory-and-deep-learning-know-hows-6556b0e9891b.\n"
   ]
  },
  {
   "cell_type": "code",
   "execution_count": null,
   "metadata": {},
   "outputs": [],
   "source": []
  }
 ],
 "metadata": {
  "anaconda-cloud": {},
  "cite2c": {
   "citations": {
    "7514239/6WTUYS5P": {
     "DOI": "10.1073/pnas.082080899",
     "URL": "http://www.pnas.org/cgi/doi/10.1073/pnas.082080899",
     "accessed": {
      "day": 21,
      "month": 2,
      "year": 2020
     },
     "author": [
      {
       "family": "Bonabeau",
       "given": "E."
      }
     ],
     "container-title": "Proceedings of the National Academy of Sciences",
     "container-title-short": "Proceedings of the National Academy of Sciences",
     "id": "7514239/6WTUYS5P",
     "issue": "Supplement 3",
     "issued": {
      "day": 14,
      "month": 5,
      "year": 2002
     },
     "journalAbbreviation": "Proceedings of the National Academy of Sciences",
     "language": "en",
     "page": "7280-7287",
     "page-first": "7280",
     "shortTitle": "Agent-based modeling",
     "title": "Agent-based modeling: Methods and techniques for simulating human systems",
     "title-short": "Agent-based modeling",
     "type": "article-journal",
     "volume": "99"
    },
    "7514239/9CSH3CZM": {
     "URL": "https://towardsdatascience.com/graph-theory-and-deep-learning-know-hows-6556b0e9891b",
     "author": [
      {
       "family": "Flawnson",
       "given": "Tong"
      }
     ],
     "genre": "Toward Data Science",
     "id": "7514239/9CSH3CZM",
     "issued": {
      "day": 23,
      "month": 4,
      "year": 2019
     },
     "title": "Everything you need to know about Graph Theory for Deep Learning",
     "type": "webpage"
    },
    "undefined": {
     "URL": "https://towardsdatascience.com/graph-theory-and-deep-learning-know-hows-6556b0e9891b",
     "author": [
      {
       "family": "Flawnson",
       "given": "Tong"
      }
     ],
     "genre": "Toward Data Science",
     "id": "7514239/9CSH3CZM",
     "issued": {
      "day": 23,
      "month": 4,
      "year": 2019
     },
     "title": "Everything you need to know about Graph Theory for Deep Learning",
     "type": "webpage"
    }
   }
  },
  "kernelspec": {
   "display_name": "Python 3",
   "language": "python",
   "name": "python3"
  },
  "language_info": {
   "codemirror_mode": {
    "name": "ipython",
    "version": 3
   },
   "file_extension": ".py",
   "mimetype": "text/x-python",
   "name": "python",
   "nbconvert_exporter": "python",
   "pygments_lexer": "ipython3",
   "version": "3.7.3"
  }
 },
 "nbformat": 4,
 "nbformat_minor": 1
}
