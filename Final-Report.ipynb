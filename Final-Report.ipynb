{
 "cells": [
  {
   "cell_type": "markdown",
   "metadata": {},
   "source": [
    "In order to successfully complete this assignment you need to commit changes to your shared git repository on or before **11:59pm on Friday April 24**."
   ]
  },
  {
   "cell_type": "markdown",
   "metadata": {},
   "source": [
    "Final projects will be submitted as git repositories with everything that we did this semester.  This includes all of the following:\n",
    "\n",
    "- **REPORTS** folder with bi-weekly reports relating modeling methods to your research.\n",
    "- **PROJECT_PROPOSAL** Include your original proposal\n",
    "- **FINAL_REPORT.ipynb** File or folder (Basically an edited version of this document)\n",
    "- **SOFTWARE** Folder containing your software (Likely named after your software package).\n",
    "- **DOCUMENTATION** Folder containing your documentation (Likely called docs and generated using ```pdoc3```)\n",
    "- **LICENSING** A description of how the software can be used. \n",
    "- **TESTING SOFTWARE** Some level of testing software infrastructure with tests (see description below)\n",
    "- **EXAMPLE SOFTWARE** Example data and tests (Ideally in jupyter notebooks) that show how to run the code.\n",
    "    \n",
    "This document is only a guideline and options will vary based on your individual projects.  If you have a detailed question always consider reading the [Journal of OpenSource Software submission guildlines](https://joss.readthedocs.io/en/latest/submitting.html).  I do not expect student's to follow all of them, however, given equal options, choose the ones prefered by JOSS.\n",
    "\n",
    "- Make your software available in a git (GitLab, GitHub, Bitbucket, etc.)\n",
    "- When appropriate, make sure that the software complies with the [JOSS review criteria](https://joss.readthedocs.io/en/latest/review_criteria.html). In particular, your software should be full-featured, well-documented, and contain procedures (such as automated tests) for checking correctness.\n",
    "\n"
   ]
  },
  {
   "cell_type": "markdown",
   "metadata": {},
   "source": [
    "# <center> &#9989; Project Title </center>\n",
    "\n",
    "<center>By &#9989; \"Your name\"</center>"
   ]
  },
  {
   "cell_type": "markdown",
   "metadata": {},
   "source": [
    "&#9989; Replace the following with a picture that \"defines\" your project.  This could be a faculty picture, a picture of their research, something that comes out of your demonstration or some other visual representation.  \n",
    "\n",
    "<img src=\"http://simpleicon.com/wp-content/uploads/camera.png\" width=\"20%\">\n",
    "Image from: URL"
   ]
  },
  {
   "cell_type": "markdown",
   "metadata": {},
   "source": [
    "---\n",
    "# Authors\n",
    "\n",
    "&#9989;  A list of authors and their affiliations\n",
    "\n",
    "An author is anyone that has made a substantial contribution to the submitted software."
   ]
  },
  {
   "cell_type": "markdown",
   "metadata": {},
   "source": [
    "---\n",
    "# Abstract\n",
    "\n",
    "&#9989;  A summary describing the high-level functionality and purpose of the software for a diverse, non-specialist audience"
   ]
  },
  {
   "cell_type": "markdown",
   "metadata": {},
   "source": [
    "----\n",
    "# Statement of Need\n",
    "\n",
    "&#9989;  A clear statement of need that illustrates the purpose of the software"
   ]
  },
  {
   "cell_type": "markdown",
   "metadata": {},
   "source": [
    "----\n",
    "# Installation instructions\n",
    "&#9989; There should be a clearly-stated list of dependencies. Ideally these should be handled with an automated package management solution.\n",
    "\n",
    "    Good: A package management file such as a Gemfile or package.json, requirements.txt file or equivalent\n",
    "    OK: A list of dependencies to install\n",
    "    Bad (not acceptable): Reliance on other software not listed by the authors\n",
    "    \n",
    "Instructions should also include directions for building automatic documentation. "
   ]
  },
  {
   "cell_type": "markdown",
   "metadata": {},
   "source": [
    "----\n",
    "# Unit Tests\n",
    "Authors are strongly encouraged to include an automated test suite covering the core functionality of their software.\n",
    "\n",
    "    Good: An automated test suite hooked up to an external service such as Travis-CI or similar\n",
    "    OK: Documented manual steps that can be followed to objectively check the expected functionality of the software (e.g., a sample input file to assert behavior)\n",
    "    Bad (not acceptable): No way for you the reviewer to objectively assess whether the software works\n",
    "    Other considerationsMentions\n",
    "\n",
    "&#9989;  This section of the report should include instructions on how to run the tests and interpret the results.  If possible make them runnable inside the notebook."
   ]
  },
  {
   "cell_type": "markdown",
   "metadata": {},
   "source": [
    "----\n",
    "# Example usage\n",
    "&#9989;  The authors should include examples of how to use the software (ideally to solve real-world analysis problems)."
   ]
  },
  {
   "cell_type": "markdown",
   "metadata": {},
   "source": [
    "---\n",
    "# Methodology\n",
    "\n",
    "&#9989;  A few paragraphs on how the final project matched up with your original proposal. Include how and why the project may differ to the submission guidelines."
   ]
  },
  {
   "cell_type": "markdown",
   "metadata": {},
   "source": [
    "---\n",
    "# Concluding Remarks\n",
    "\n",
    "&#9989;  A few paragraphs on what you learned and how the project reached your research goals.  Include your plans for future work."
   ]
  },
  {
   "cell_type": "markdown",
   "metadata": {},
   "source": [
    "----\n",
    "# Mentions\n",
    "\n",
    "&#9989;  Mentions (if applicable) of any ongoing research projects using the software or recent scholarly publications enabled by it"
   ]
  },
  {
   "cell_type": "markdown",
   "metadata": {},
   "source": [
    "----\n",
    "# References\n",
    "\n",
    "&#9989; A list of key references including a link to the software archive"
   ]
  },
  {
   "cell_type": "markdown",
   "metadata": {},
   "source": [
    "-----\n",
    "\n",
    "### Congratulations, you are done!\n",
    "\n",
    "Now, you just need to commit and push this report to your project git repository. "
   ]
  }
 ],
 "metadata": {
  "anaconda-cloud": {},
  "kernelspec": {
   "display_name": "Python 3",
   "language": "python",
   "name": "python3"
  },
  "language_info": {
   "codemirror_mode": {
    "name": "ipython",
    "version": 3
   },
   "file_extension": ".py",
   "mimetype": "text/x-python",
   "name": "python",
   "nbconvert_exporter": "python",
   "pygments_lexer": "ipython3",
   "version": "3.7.3"
  }
 },
 "nbformat": 4,
 "nbformat_minor": 1
}
